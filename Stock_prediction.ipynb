{
 "cells": [
  {
   "cell_type": "markdown",
   "id": "c8b7869e",
   "metadata": {},
   "source": [
    "importing required librabries"
   ]
  },
  {
   "cell_type": "code",
   "execution_count": 48,
   "id": "314e9d04",
   "metadata": {},
   "outputs": [],
   "source": [
    "import yfinance as yf\n",
    "import pandas as pd\n",
    "import numpy as np\n",
    "import matplotlib.pyplot as plt\n",
    "import tensorflow as tf\n",
    "from tensorflow.keras.models import Sequential\n",
    "from tensorflow.keras.layers import Dense, LSTM, Dropout\n",
    "from sklearn.preprocessing import MinMaxScaler"
   ]
  },
  {
   "cell_type": "markdown",
   "id": "c93e72fc",
   "metadata": {},
   "source": [
    "download the data from yahoo finanace website"
   ]
  },
  {
   "cell_type": "code",
   "execution_count": 49,
   "id": "9bfd2c86",
   "metadata": {},
   "outputs": [
    {
     "name": "stdout",
     "output_type": "stream",
     "text": [
      "[*********************100%***********************]  1 of 1 completed\n"
     ]
    }
   ],
   "source": [
    "data=yf.download('MRF.NS')"
   ]
  },
  {
   "cell_type": "code",
   "execution_count": 50,
   "id": "8c1ac89e",
   "metadata": {},
   "outputs": [
    {
     "data": {
      "text/html": [
       "<div>\n",
       "<style scoped>\n",
       "    .dataframe tbody tr th:only-of-type {\n",
       "        vertical-align: middle;\n",
       "    }\n",
       "\n",
       "    .dataframe tbody tr th {\n",
       "        vertical-align: top;\n",
       "    }\n",
       "\n",
       "    .dataframe thead th {\n",
       "        text-align: right;\n",
       "    }\n",
       "</style>\n",
       "<table border=\"1\" class=\"dataframe\">\n",
       "  <thead>\n",
       "    <tr style=\"text-align: right;\">\n",
       "      <th></th>\n",
       "      <th>Open</th>\n",
       "      <th>High</th>\n",
       "      <th>Low</th>\n",
       "      <th>Close</th>\n",
       "      <th>Adj Close</th>\n",
       "      <th>Volume</th>\n",
       "    </tr>\n",
       "    <tr>\n",
       "      <th>Date</th>\n",
       "      <th></th>\n",
       "      <th></th>\n",
       "      <th></th>\n",
       "      <th></th>\n",
       "      <th></th>\n",
       "      <th></th>\n",
       "    </tr>\n",
       "  </thead>\n",
       "  <tbody>\n",
       "    <tr>\n",
       "      <th>2002-07-01</th>\n",
       "      <td>910.000000</td>\n",
       "      <td>910.000000</td>\n",
       "      <td>880.000000</td>\n",
       "      <td>897.599976</td>\n",
       "      <td>812.912415</td>\n",
       "      <td>426</td>\n",
       "    </tr>\n",
       "    <tr>\n",
       "      <th>2002-07-02</th>\n",
       "      <td>900.000000</td>\n",
       "      <td>905.000000</td>\n",
       "      <td>895.000000</td>\n",
       "      <td>903.650024</td>\n",
       "      <td>818.391663</td>\n",
       "      <td>310</td>\n",
       "    </tr>\n",
       "    <tr>\n",
       "      <th>2002-07-03</th>\n",
       "      <td>910.000000</td>\n",
       "      <td>910.000000</td>\n",
       "      <td>900.000000</td>\n",
       "      <td>906.700012</td>\n",
       "      <td>821.153870</td>\n",
       "      <td>336</td>\n",
       "    </tr>\n",
       "    <tr>\n",
       "      <th>2002-07-04</th>\n",
       "      <td>920.000000</td>\n",
       "      <td>925.000000</td>\n",
       "      <td>910.000000</td>\n",
       "      <td>916.799988</td>\n",
       "      <td>830.300781</td>\n",
       "      <td>591</td>\n",
       "    </tr>\n",
       "    <tr>\n",
       "      <th>2002-07-05</th>\n",
       "      <td>915.000000</td>\n",
       "      <td>935.000000</td>\n",
       "      <td>910.000000</td>\n",
       "      <td>927.299988</td>\n",
       "      <td>839.810181</td>\n",
       "      <td>1623</td>\n",
       "    </tr>\n",
       "    <tr>\n",
       "      <th>...</th>\n",
       "      <td>...</td>\n",
       "      <td>...</td>\n",
       "      <td>...</td>\n",
       "      <td>...</td>\n",
       "      <td>...</td>\n",
       "      <td>...</td>\n",
       "    </tr>\n",
       "    <tr>\n",
       "      <th>2023-07-14</th>\n",
       "      <td>101450.000000</td>\n",
       "      <td>102400.000000</td>\n",
       "      <td>101264.250000</td>\n",
       "      <td>102141.203125</td>\n",
       "      <td>101973.156250</td>\n",
       "      <td>5109</td>\n",
       "    </tr>\n",
       "    <tr>\n",
       "      <th>2023-07-17</th>\n",
       "      <td>102141.203125</td>\n",
       "      <td>102341.203125</td>\n",
       "      <td>101820.500000</td>\n",
       "      <td>101988.148438</td>\n",
       "      <td>101820.351562</td>\n",
       "      <td>2065</td>\n",
       "    </tr>\n",
       "    <tr>\n",
       "      <th>2023-07-18</th>\n",
       "      <td>102000.000000</td>\n",
       "      <td>102499.953125</td>\n",
       "      <td>101611.046875</td>\n",
       "      <td>102245.453125</td>\n",
       "      <td>102077.234375</td>\n",
       "      <td>3212</td>\n",
       "    </tr>\n",
       "    <tr>\n",
       "      <th>2023-07-19</th>\n",
       "      <td>102256.000000</td>\n",
       "      <td>102990.000000</td>\n",
       "      <td>102065.296875</td>\n",
       "      <td>102718.148438</td>\n",
       "      <td>102549.148438</td>\n",
       "      <td>4956</td>\n",
       "    </tr>\n",
       "    <tr>\n",
       "      <th>2023-07-20</th>\n",
       "      <td>102500.000000</td>\n",
       "      <td>102733.953125</td>\n",
       "      <td>101600.000000</td>\n",
       "      <td>101896.203125</td>\n",
       "      <td>101896.203125</td>\n",
       "      <td>3769</td>\n",
       "    </tr>\n",
       "  </tbody>\n",
       "</table>\n",
       "<p>5231 rows × 6 columns</p>\n",
       "</div>"
      ],
      "text/plain": [
       "                     Open           High            Low          Close  \\\n",
       "Date                                                                     \n",
       "2002-07-01     910.000000     910.000000     880.000000     897.599976   \n",
       "2002-07-02     900.000000     905.000000     895.000000     903.650024   \n",
       "2002-07-03     910.000000     910.000000     900.000000     906.700012   \n",
       "2002-07-04     920.000000     925.000000     910.000000     916.799988   \n",
       "2002-07-05     915.000000     935.000000     910.000000     927.299988   \n",
       "...                   ...            ...            ...            ...   \n",
       "2023-07-14  101450.000000  102400.000000  101264.250000  102141.203125   \n",
       "2023-07-17  102141.203125  102341.203125  101820.500000  101988.148438   \n",
       "2023-07-18  102000.000000  102499.953125  101611.046875  102245.453125   \n",
       "2023-07-19  102256.000000  102990.000000  102065.296875  102718.148438   \n",
       "2023-07-20  102500.000000  102733.953125  101600.000000  101896.203125   \n",
       "\n",
       "                Adj Close  Volume  \n",
       "Date                               \n",
       "2002-07-01     812.912415     426  \n",
       "2002-07-02     818.391663     310  \n",
       "2002-07-03     821.153870     336  \n",
       "2002-07-04     830.300781     591  \n",
       "2002-07-05     839.810181    1623  \n",
       "...                   ...     ...  \n",
       "2023-07-14  101973.156250    5109  \n",
       "2023-07-17  101820.351562    2065  \n",
       "2023-07-18  102077.234375    3212  \n",
       "2023-07-19  102549.148438    4956  \n",
       "2023-07-20  101896.203125    3769  \n",
       "\n",
       "[5231 rows x 6 columns]"
      ]
     },
     "execution_count": 50,
     "metadata": {},
     "output_type": "execute_result"
    }
   ],
   "source": [
    "data"
   ]
  },
  {
   "cell_type": "markdown",
   "id": "07fbca7b",
   "metadata": {},
   "source": [
    "converting data into csv formate"
   ]
  },
  {
   "cell_type": "code",
   "execution_count": 5,
   "id": "9d458ed2",
   "metadata": {},
   "outputs": [],
   "source": [
    "data.to_csv('MRF.csv')"
   ]
  },
  {
   "cell_type": "code",
   "execution_count": 51,
   "id": "99843f08",
   "metadata": {},
   "outputs": [],
   "source": [
    "df = pd.read_csv('MRF.csv')"
   ]
  },
  {
   "cell_type": "code",
   "execution_count": 52,
   "id": "919450fc",
   "metadata": {},
   "outputs": [
    {
     "data": {
      "text/html": [
       "<div>\n",
       "<style scoped>\n",
       "    .dataframe tbody tr th:only-of-type {\n",
       "        vertical-align: middle;\n",
       "    }\n",
       "\n",
       "    .dataframe tbody tr th {\n",
       "        vertical-align: top;\n",
       "    }\n",
       "\n",
       "    .dataframe thead th {\n",
       "        text-align: right;\n",
       "    }\n",
       "</style>\n",
       "<table border=\"1\" class=\"dataframe\">\n",
       "  <thead>\n",
       "    <tr style=\"text-align: right;\">\n",
       "      <th></th>\n",
       "      <th>Date</th>\n",
       "      <th>Open</th>\n",
       "      <th>High</th>\n",
       "      <th>Low</th>\n",
       "      <th>Close</th>\n",
       "      <th>Adj Close</th>\n",
       "      <th>Volume</th>\n",
       "    </tr>\n",
       "  </thead>\n",
       "  <tbody>\n",
       "    <tr>\n",
       "      <th>0</th>\n",
       "      <td>2002-07-01</td>\n",
       "      <td>910.0</td>\n",
       "      <td>910.0</td>\n",
       "      <td>880.0</td>\n",
       "      <td>897.599976</td>\n",
       "      <td>812.912537</td>\n",
       "      <td>426</td>\n",
       "    </tr>\n",
       "    <tr>\n",
       "      <th>1</th>\n",
       "      <td>2002-07-02</td>\n",
       "      <td>900.0</td>\n",
       "      <td>905.0</td>\n",
       "      <td>895.0</td>\n",
       "      <td>903.650024</td>\n",
       "      <td>818.391724</td>\n",
       "      <td>310</td>\n",
       "    </tr>\n",
       "    <tr>\n",
       "      <th>2</th>\n",
       "      <td>2002-07-03</td>\n",
       "      <td>910.0</td>\n",
       "      <td>910.0</td>\n",
       "      <td>900.0</td>\n",
       "      <td>906.700012</td>\n",
       "      <td>821.153809</td>\n",
       "      <td>336</td>\n",
       "    </tr>\n",
       "    <tr>\n",
       "      <th>3</th>\n",
       "      <td>2002-07-04</td>\n",
       "      <td>920.0</td>\n",
       "      <td>925.0</td>\n",
       "      <td>910.0</td>\n",
       "      <td>916.799988</td>\n",
       "      <td>830.301147</td>\n",
       "      <td>591</td>\n",
       "    </tr>\n",
       "    <tr>\n",
       "      <th>4</th>\n",
       "      <td>2002-07-05</td>\n",
       "      <td>915.0</td>\n",
       "      <td>935.0</td>\n",
       "      <td>910.0</td>\n",
       "      <td>927.299988</td>\n",
       "      <td>839.810364</td>\n",
       "      <td>1623</td>\n",
       "    </tr>\n",
       "  </tbody>\n",
       "</table>\n",
       "</div>"
      ],
      "text/plain": [
       "         Date   Open   High    Low       Close   Adj Close  Volume\n",
       "0  2002-07-01  910.0  910.0  880.0  897.599976  812.912537     426\n",
       "1  2002-07-02  900.0  905.0  895.0  903.650024  818.391724     310\n",
       "2  2002-07-03  910.0  910.0  900.0  906.700012  821.153809     336\n",
       "3  2002-07-04  920.0  925.0  910.0  916.799988  830.301147     591\n",
       "4  2002-07-05  915.0  935.0  910.0  927.299988  839.810364    1623"
      ]
     },
     "execution_count": 52,
     "metadata": {},
     "output_type": "execute_result"
    }
   ],
   "source": [
    "df.head()"
   ]
  },
  {
   "cell_type": "code",
   "execution_count": 53,
   "id": "d732bd59",
   "metadata": {},
   "outputs": [
    {
     "data": {
      "text/plain": [
       "(5231, 7)"
      ]
     },
     "execution_count": 53,
     "metadata": {},
     "output_type": "execute_result"
    }
   ],
   "source": [
    "df.shape"
   ]
  },
  {
   "cell_type": "code",
   "execution_count": 54,
   "id": "459a808c",
   "metadata": {},
   "outputs": [
    {
     "name": "stdout",
     "output_type": "stream",
     "text": [
      "<class 'pandas.core.frame.DataFrame'>\n",
      "RangeIndex: 5231 entries, 0 to 5230\n",
      "Data columns (total 7 columns):\n",
      " #   Column     Non-Null Count  Dtype  \n",
      "---  ------     --------------  -----  \n",
      " 0   Date       5231 non-null   object \n",
      " 1   Open       5231 non-null   float64\n",
      " 2   High       5231 non-null   float64\n",
      " 3   Low        5231 non-null   float64\n",
      " 4   Close      5231 non-null   float64\n",
      " 5   Adj Close  5231 non-null   float64\n",
      " 6   Volume     5231 non-null   int64  \n",
      "dtypes: float64(5), int64(1), object(1)\n",
      "memory usage: 286.2+ KB\n"
     ]
    }
   ],
   "source": [
    "df.info()"
   ]
  },
  {
   "cell_type": "markdown",
   "id": "343589a9",
   "metadata": {},
   "source": [
    "ploting and visualize the closing price of the stock"
   ]
  },
  {
   "cell_type": "code",
   "execution_count": 55,
   "id": "e1041a0d",
   "metadata": {},
   "outputs": [
    {
     "data": {
      "image/png": "[encoded data removed]",
      "text/plain": [
       "<Figure size 1080x720 with 1 Axes>"
      ]
     },
     "metadata": {
      "needs_background": "light"
     },
     "output_type": "display_data"
    }
   ],
   "source": [
    "plt.figure(figsize=(15,10))\n",
    "plt.title(\"close price history\")\n",
    "plt.plot(df['Close'])\n",
    "plt.xlabel(\"Date\",fontsize=18)\n",
    "plt.ylabel(\"price in INR\",fontsize=18)\n",
    "plt.show()"
   ]
  },
  {
   "cell_type": "markdown",
   "id": "71b28e33",
   "metadata": {},
   "source": [
    "create a new dataframe which contain only Close values"
   ]
  },
  {
   "cell_type": "code",
   "execution_count": 59,
   "id": "54771e22",
   "metadata": {},
   "outputs": [
    {
     "name": "stdout",
     "output_type": "stream",
     "text": [
      "(5231, 1)\n"
     ]
    }
   ],
   "source": [
    "Data = df.filter(['Close']).values\n",
    "print(Data.shape)"
   ]
  },
  {
   "cell_type": "markdown",
   "id": "8ceb1d02",
   "metadata": {},
   "source": [
    "Normalize the data between 0 and 1 using the MinMaxScaler"
   ]
  },
  {
   "cell_type": "code",
   "execution_count": 60,
   "id": "560766c6",
   "metadata": {},
   "outputs": [],
   "source": [
    "scaler = MinMaxScaler(feature_range=(0,1))\n",
    "scaled_data = scaler.fit_transform(Data)"
   ]
  },
  {
   "cell_type": "markdown",
   "id": "995bbcf1",
   "metadata": {},
   "source": [
    "Train the dataset"
   ]
  },
  {
   "cell_type": "code",
   "execution_count": 61,
   "id": "4cff792d",
   "metadata": {},
   "outputs": [],
   "source": [
    "train_data = scaled_data[:int(len(scaled_data)*0.8)]\n",
    "x_train = []\n",
    "y_train = []\n",
    "\n",
    "for i in range(50, len(train_data)):\n",
    "    x_train.append(train_data[i-50:i, 0])\n",
    "    y_train.append(train_data[i, 0])\n",
    "    \n",
    "x_train, y_train = np.array(x_train), np.array(y_train)\n",
    "x_train = np.reshape(x_train, (x_train.shape[0], x_train.shape[1], 1))"
   ]
  },
  {
   "cell_type": "markdown",
   "id": "461a2956",
   "metadata": {},
   "source": [
    "Building the LSTM model for the train data"
   ]
  },
  {
   "cell_type": "code",
   "execution_count": 62,
   "id": "4370ba4d",
   "metadata": {},
   "outputs": [
    {
     "name": "stdout",
     "output_type": "stream",
     "text": [
      "Epoch 1/50\n",
      "130/130 [==============================] - 23s 97ms/step - loss: 0.0041\n",
      "Epoch 2/50\n",
      "130/130 [==============================] - 13s 97ms/step - loss: 0.0013\n",
      "Epoch 3/50\n",
      "130/130 [==============================] - 13s 97ms/step - loss: 0.0011\n",
      "Epoch 4/50\n",
      "130/130 [==============================] - 13s 96ms/step - loss: 8.5135e-04\n",
      "Epoch 5/50\n",
      "130/130 [==============================] - 12s 95ms/step - loss: 8.9573e-04\n",
      "Epoch 6/50\n",
      "130/130 [==============================] - 13s 97ms/step - loss: 9.6619e-04\n",
      "Epoch 7/50\n",
      "130/130 [==============================] - 12s 95ms/step - loss: 7.0136e-04\n",
      "Epoch 8/50\n",
      "130/130 [==============================] - 12s 95ms/step - loss: 7.1145e-04\n",
      "Epoch 9/50\n",
      "130/130 [==============================] - 12s 94ms/step - loss: 7.2609e-04\n",
      "Epoch 10/50\n",
      "130/130 [==============================] - 12s 95ms/step - loss: 6.9609e-04\n",
      "Epoch 11/50\n",
      "130/130 [==============================] - 12s 95ms/step - loss: 6.0437e-04\n",
      "Epoch 12/50\n",
      "130/130 [==============================] - 13s 97ms/step - loss: 7.5608e-04\n",
      "Epoch 13/50\n",
      "130/130 [==============================] - 12s 95ms/step - loss: 5.5184e-04\n",
      "Epoch 14/50\n",
      "130/130 [==============================] - 12s 95ms/step - loss: 6.1188e-04\n",
      "Epoch 15/50\n",
      "130/130 [==============================] - 12s 94ms/step - loss: 5.9486e-04\n",
      "Epoch 16/50\n",
      "130/130 [==============================] - 12s 94ms/step - loss: 5.5782e-04\n",
      "Epoch 17/50\n",
      "130/130 [==============================] - 12s 95ms/step - loss: 5.1847e-04\n",
      "Epoch 18/50\n",
      "130/130 [==============================] - 12s 93ms/step - loss: 6.1062e-04\n",
      "Epoch 19/50\n",
      "130/130 [==============================] - 12s 94ms/step - loss: 5.6275e-04\n",
      "Epoch 20/50\n",
      "130/130 [==============================] - 12s 94ms/step - loss: 5.0774e-04\n",
      "Epoch 21/50\n",
      "130/130 [==============================] - 12s 96ms/step - loss: 5.4321e-04\n",
      "Epoch 22/50\n",
      "130/130 [==============================] - 13s 97ms/step - loss: 5.1234e-04\n",
      "Epoch 23/50\n",
      "130/130 [==============================] - 12s 95ms/step - loss: 5.0339e-04\n",
      "Epoch 24/50\n",
      "130/130 [==============================] - 12s 96ms/step - loss: 4.8743e-04\n",
      "Epoch 25/50\n",
      "130/130 [==============================] - 12s 95ms/step - loss: 5.0179e-04\n",
      "Epoch 26/50\n",
      "130/130 [==============================] - 12s 94ms/step - loss: 4.9733e-04\n",
      "Epoch 27/50\n",
      "130/130 [==============================] - 12s 94ms/step - loss: 4.4360e-04\n",
      "Epoch 28/50\n",
      "130/130 [==============================] - 12s 93ms/step - loss: 4.8524e-04\n",
      "Epoch 29/50\n",
      "130/130 [==============================] - 12s 95ms/step - loss: 5.4778e-04\n",
      "Epoch 30/50\n",
      "130/130 [==============================] - 12s 95ms/step - loss: 5.2591e-04\n",
      "Epoch 31/50\n",
      "130/130 [==============================] - 12s 95ms/step - loss: 5.6051e-04\n",
      "Epoch 32/50\n",
      "130/130 [==============================] - 12s 94ms/step - loss: 4.6212e-04\n",
      "Epoch 33/50\n",
      "130/130 [==============================] - 12s 93ms/step - loss: 4.3723e-04\n",
      "Epoch 34/50\n",
      "130/130 [==============================] - 12s 92ms/step - loss: 5.3463e-04\n",
      "Epoch 35/50\n",
      "130/130 [==============================] - 12s 93ms/step - loss: 4.4957e-04\n",
      "Epoch 36/50\n",
      "130/130 [==============================] - 12s 93ms/step - loss: 5.0159e-04\n",
      "Epoch 37/50\n",
      "130/130 [==============================] - 12s 96ms/step - loss: 5.5124e-04\n",
      "Epoch 38/50\n",
      "130/130 [==============================] - 12s 94ms/step - loss: 4.8038e-04\n",
      "Epoch 39/50\n",
      "130/130 [==============================] - 12s 95ms/step - loss: 4.6220e-04\n",
      "Epoch 40/50\n",
      "130/130 [==============================] - 12s 94ms/step - loss: 4.3417e-04\n",
      "Epoch 41/50\n",
      "130/130 [==============================] - 12s 93ms/step - loss: 4.5172e-04\n",
      "Epoch 42/50\n",
      "130/130 [==============================] - 12s 93ms/step - loss: 4.6299e-04\n",
      "Epoch 43/50\n",
      "130/130 [==============================] - 12s 95ms/step - loss: 5.1743e-04\n",
      "Epoch 44/50\n",
      "130/130 [==============================] - 12s 93ms/step - loss: 4.7640e-04\n",
      "Epoch 45/50\n",
      "130/130 [==============================] - 12s 95ms/step - loss: 4.6264e-04\n",
      "Epoch 46/50\n",
      "130/130 [==============================] - 11s 85ms/step - loss: 5.0479e-04\n",
      "Epoch 47/50\n",
      "130/130 [==============================] - 11s 88ms/step - loss: 4.9071e-04\n",
      "Epoch 48/50\n",
      "130/130 [==============================] - 12s 90ms/step - loss: 4.4518e-04\n",
      "Epoch 49/50\n",
      "130/130 [==============================] - 12s 92ms/step - loss: 4.5004e-04\n",
      "Epoch 50/50\n",
      "130/130 [==============================] - 12s 95ms/step - loss: 4.5087e-04\n"
     ]
    },
    {
     "data": {
      "text/plain": [
       "<keras.src.callbacks.History at 0x1977d81ba90>"
      ]
     },
     "execution_count": 62,
     "metadata": {},
     "output_type": "execute_result"
    }
   ],
   "source": [
    "model = Sequential()\n",
    "model.add(LSTM(50, return_sequences=True, input_shape=(x_train.shape[1], 1)))\n",
    "model.add(Dropout(0.2))\n",
    "model.add(LSTM(50, return_sequences=True))\n",
    "model.add(Dropout(0.2))\n",
    "model.add(LSTM(50))\n",
    "model.add(Dropout(0.2))\n",
    "model.add(Dense(1))\n",
    "\n",
    "model.compile(optimizer='adam', loss='mean_squared_error')\n",
    "\n",
    "model.fit(x_train, y_train, epochs=50, batch_size=32)"
   ]
  },
  {
   "cell_type": "markdown",
   "id": "aef35c0d",
   "metadata": {},
   "source": [
    "Prediction on test data"
   ]
  },
  {
   "cell_type": "code",
   "execution_count": 65,
   "id": "23a18433",
   "metadata": {},
   "outputs": [
    {
     "name": "stdout",
     "output_type": "stream",
     "text": [
      "33/33 [==============================] - 3s 33ms/step\n"
     ]
    }
   ],
   "source": [
    "\n",
    "test_data = scaled_data[int(len(scaled_data)*0.8) - 50:]\n",
    "x_test = []\n",
    "y_test = Data[int(len(data)*0.8):, :]\n",
    "\n",
    "for i in range(50, len(test_data)):\n",
    "    x_test.append(test_data[i-50:i, 0])\n",
    "    \n",
    "x_test = np.array(x_test)\n",
    "x_test = np.reshape(x_test, (x_test.shape[0], x_test.shape[1], 1))\n",
    "\n",
    "predictions = model.predict(x_test)\n",
    "predictions = scaler.inverse_transform(predictions)"
   ]
  },
  {
   "cell_type": "markdown",
   "id": "448dfc80",
   "metadata": {},
   "source": [
    "visualization of actual vs predicted values"
   ]
  },
  {
   "cell_type": "code",
   "execution_count": 66,
   "id": "b631e729",
   "metadata": {},
   "outputs": [
    {
     "data": {
      "image/png": "[encoded data removed]",
      "text/plain": [
       "<Figure size 864x432 with 1 Axes>"
      ]
     },
     "metadata": {
      "needs_background": "light"
     },
     "output_type": "display_data"
    }
   ],
   "source": [
    "plt.figure(figsize=(12,6))\n",
    "plt.title('Predicted vs Actual Stock Price')\n",
    "plt.plot(y_test, label='Actual Price')\n",
    "plt.plot(predictions, label='Predicted Price')\n",
    "plt.xlabel('Time', fontsize=16)\n",
    "plt.ylabel('Stock Price USD ($)', fontsize=16)\n",
    "plt.legend()\n",
    "plt.show()"
   ]
  },
  {
   "cell_type": "code",
   "execution_count": null,
   "id": "13727c62",
   "metadata": {},
   "outputs": [],
   "source": []
  }
 ],
 "metadata": {
  "kernelspec": {
   "display_name": "Python 3 (ipykernel)",
   "language": "python",
   "name": "python3"
  },
  "language_info": {
   "codemirror_mode": {
    "name": "ipython",
    "version": 3
   },
   "file_extension": ".py",
   "mimetype": "text/x-python",
   "name": "python",
   "nbconvert_exporter": "python",
   "pygments_lexer": "ipython3",
   "version": "3.10.1"
  }
 },
 "nbformat": 4,
 "nbformat_minor": 5
}
